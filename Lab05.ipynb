{
 "cells": [
  {
   "cell_type": "markdown",
   "id": "c07a6179-3a18-4820-8a65-79a957c34540",
   "metadata": {},
   "source": [
    "<h3>Лабораторная работа №5</h3>\n",
    "<p style=\"font-size: 16px\">Исследование вероятности экспозиции совместно с вероятностью блокировки\n",
    "на основе модели антенн</p>\n",
    "<hr>\n",
    "<p style=\"font-size: 14px\">Цель:</p>\n",
    "<ol>\n",
    "    <li>Исследование вероятности экспозиции на основе модели антенн.</li>\n",
    "</ol>\n",
    "<hr>\n",
    "<p><b><u>Задание</u></b></p>\n",
    "<p style=\"width: 60%\">В условиях предыдущей лабораторной работы №4, на двух точках, между\n",
    "которыми производится проверка прямой видимости, формируется диаграмма\n",
    "направленности, задающаяся вектором направления и углом. Предполагается, что\n",
    "если для обеих из рассматриваемых точек вторая точка лежит внутри сектора,\n",
    "описанного вектором и углом и линия прямой видимости между ними не\n",
    "заблокирована, то точки находятся в области видимости друг друга.</p>\n",
    "<p style=\"width: 60%\">При условии, что направление вектора диаграммы задается случайно\n",
    "равномерно распределенной величиной от 0 до 2 Pi, а угол является константой,\n",
    "определить находятся ли рассматриваемые точки в области видимости друг друга.</p>\n",
    "<p style=\"width: 60%\">На основе 1000 реализаций определить вероятность нахождения точек в\n",
    "области видимости друг друга. Полученный результат сравнить с результатами\n",
    "математической модели.</p>\n",
    "<hr>"
   ]
  },
  {
   "cell_type": "code",
   "execution_count": 2,
   "id": "077469d3-4dd9-4cdf-8f90-75e8db47cb8d",
   "metadata": {},
   "outputs": [],
   "source": [
    "import numpy as np\n",
    "import matplotlib.pyplot as plt\n",
    "import matplotlib.patches as patches\n",
    "import math as m"
   ]
  },
  {
   "cell_type": "code",
   "execution_count": 4,
   "id": "49add20a-cd18-436d-a5dd-982d66cffcc3",
   "metadata": {},
   "outputs": [
    {
     "name": "stdout",
     "output_type": "stream",
     "text": [
      "Экспериментальный результат вероятности блокировки = 0.992\n",
      "Теоретический результат блокировки 0.992\n"
     ]
    }
   ],
   "source": [
    "# Вводим константы (честно украдены с 4ой лабораторной)\n",
    "A = 10   # Сторона квадрата\n",
    "q = 0.2  # Плотность блокирующих объектов\n",
    "r = 0.2  # Радиус окружности блокирующего объекта\n",
    "x = 4    # Расстояние между двумя точками для 1ого задания\n",
    "\n",
    "# Далее добавим константный угол в радианах\n",
    "VAR_ANGLE_RAD = 0.7\n",
    "\n",
    "# Далее не менее честно крадём функцию получения блокирующих объектов\n",
    "def giveMeLockingObjects():\n",
    "    xDots = np.random.uniform(low = 0, high = A, size = int(q * A ** 2))\n",
    "    yDots = np.random.uniform(low = 0, high = A, size = int(q * A ** 2))\n",
    "    return xDots, yDots\n",
    "\n",
    "# Не забываем прихватить с собой функцию на проверку блокировки между двумя точками\n",
    "def checkIfLocked(xFirst, yFirst, xSecond, ySecond, xLockDots, yLockDots):\n",
    "    xToCheck = np.linspace(xFirst, xSecond, 100)\n",
    "    yToCheck = np.linspace(yFirst, ySecond, 100)\n",
    "\n",
    "    for j in range(len(xToCheck)):\n",
    "        for i in range(len(xLockDots)):\n",
    "            if (m.sqrt((xToCheck[j] - xLockDots[i]) ** 2 + (yToCheck[j] - yLockDots[i]) ** 2) < r): return False\n",
    "\n",
    "    return True\n",
    "\n",
    "def checkIfVisible(xFirst, yFirst, xSecond, ySecond):\n",
    "    angleFirstToSecond = m.atan2(yFirst - ySecond, xFirst - xSecond)\n",
    "\n",
    "    # Для диаграммы направленности будем генерировать ее \"потолок\", а \"пол\" будем получать вычитанием константного угла\n",
    "    angleGeneratedFirst = np.random.uniform(low = - m.pi, high = m.pi)\n",
    "    angleGeneratedSecond = angleGeneratedFirst - VAR_ANGLE_RAD\n",
    "\n",
    "    if ( (angleGeneratedFirst > angleFirstToSecond) and (angleGeneratedSecond < angleFirstToSecond) ):\n",
    "        return True\n",
    "    \n",
    "    if (angleGeneratedSecond < - m.pi) \\\n",
    "        and ( (angleFirstToSecond < angleGeneratedFirst) or (angleFirstToSecond > angleGeneratedSecond + 2 * m.pi) ):\n",
    "        return True\n",
    "\n",
    "    return False\n",
    "\n",
    "# Модифицируем проверку и расчёт вероятности из прошлой лабораторной так,\n",
    "# чтобы проверка и расчёт учитывали диаграмму направленности\n",
    "totalChecks = 10000\n",
    "totalLocks  = 0\n",
    "\n",
    "mathP = 0\n",
    "\n",
    "xLocks, yLocks = giveMeLockingObjects()\n",
    "\n",
    "for i in range(totalChecks):\n",
    "    # Генерируем точки\n",
    "    xFirst = np.random.uniform(low = 0, high = A)\n",
    "    yFirst = np.random.uniform(low = 0, high = A)\n",
    "    xSecond = np.random.uniform(low = 0, high = A)\n",
    "    ySecond = np.random.uniform(low = 0, high = A)\n",
    "    \n",
    "    if (not checkIfLocked(xFirst, yFirst, xSecond, ySecond, xLocks, yLocks)\n",
    "       or not checkIfVisible(xFirst, yFirst, xSecond, ySecond)\n",
    "       or not checkIfVisible(xSecond, ySecond, xFirst, yFirst)):\n",
    "        totalLocks += 1\n",
    "\n",
    "    # Расчёт вероятности по формуле, для согласования со случайным расстоянием между точками\n",
    "    mathP += ((1 - m.exp(- q * 2 * r * ( m.sqrt( (xFirst - xSecond) ** 2 + (yFirst - ySecond) ** 2 ) + r ) )) / totalChecks) \\\n",
    "        + (m.exp(- q * 2 * r * ( m.sqrt( (xFirst - xSecond) ** 2 + (yFirst - ySecond) ** 2 ) + r ) ) / totalChecks) \\\n",
    "        * (1 - (VAR_ANGLE_RAD / 2 / m.pi) ** 2)\n",
    "\n",
    "print('Экспериментальный результат вероятности блокировки = %.3f' %(totalLocks / totalChecks))\n",
    "print('Теоретический результат блокировки %.3f' %(mathP))"
   ]
  },
  {
   "cell_type": "markdown",
   "id": "ab662dc9-e48a-408e-bcde-6a0fd33ba9b6",
   "metadata": {},
   "source": [
    "<hr>\n",
    "<h3>Выводы:</h3>\n",
    "<ol>\n",
    "    <li>Исследование вероятности экспозиции на основе модели антенн.</li>\n",
    "    <li>Сравнили генеративные и теоретические вероятности эскпозиций</li>\n",
    "</ol>"
   ]
  }
 ],
 "metadata": {
  "kernelspec": {
   "display_name": "Python 3 (ipykernel)",
   "language": "python",
   "name": "python3"
  },
  "language_info": {
   "codemirror_mode": {
    "name": "ipython",
    "version": 3
   },
   "file_extension": ".py",
   "mimetype": "text/x-python",
   "name": "python",
   "nbconvert_exporter": "python",
   "pygments_lexer": "ipython3",
   "version": "3.12.3"
  }
 },
 "nbformat": 4,
 "nbformat_minor": 5
}
